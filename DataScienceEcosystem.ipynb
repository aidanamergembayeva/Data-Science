{
 "cells": [
  {
   "cell_type": "markdown",
   "id": "85ad9226-02db-4f52-841e-8fa797347034",
   "metadata": {},
   "source": [
    "# Data Science Tools and Ecosystem"
   ]
  },
  {
   "cell_type": "markdown",
   "id": "df9e822a-185c-48e0-b671-102b9d6d9bd2",
   "metadata": {},
   "source": [
    "In this notebook, Data Science Tools and Ecosystem are summarized."
   ]
  },
  {
   "cell_type": "markdown",
   "id": "cfa60c79-742e-4ad4-a62b-c356e92c8950",
   "metadata": {},
   "source": [
    "Some of the popular languages that Data Scientists use are:\n",
    "<ol><li>Python</li><li>R</li><li>Java</li></ol>"
   ]
  },
  {
   "cell_type": "markdown",
   "id": "b6f0ed4a-9116-48a7-a002-6a95e8d5b61f",
   "metadata": {},
   "source": [
    "Some of the commonly used libraries used by Data Scientists include:\n",
    "<ol><li>Pandas</li><li>Matplotlib</li><li>SciPy</li></ol>"
   ]
  },
  {
   "cell_type": "markdown",
   "id": "8b642b93-678e-489f-868f-b54b56341c4c",
   "metadata": {},
   "source": [
    "| Data Science Tools       |\n",
    "|---------------------------|\n",
    "| Jupyter Notebook          |\n",
    "| RStudio                   |\n",
    "| Apache Zeppelin           |\n"
   ]
  },
  {
   "cell_type": "markdown",
   "id": "533c7d87-f21a-4778-adea-768ee262679e",
   "metadata": {},
   "source": [
    "### Below are a few examples of evaluating arithmetic expressions in Python."
   ]
  },
  {
   "cell_type": "code",
   "execution_count": 24,
   "id": "0e61c38e-a117-4872-813f-afa67c3a5a4b",
   "metadata": {},
   "outputs": [
    {
     "data": {
      "text/plain": [
       "17"
      ]
     },
     "execution_count": 24,
     "metadata": {},
     "output_type": "execute_result"
    }
   ],
   "source": [
    "(3 * 4) + 5"
   ]
  },
  {
   "cell_type": "code",
   "execution_count": 28,
   "id": "a30743ba-0637-4bc0-9742-624c9a2e9235",
   "metadata": {},
   "outputs": [
    {
     "data": {
      "text/plain": [
       "3.3333333333333335"
      ]
     },
     "execution_count": 28,
     "metadata": {},
     "output_type": "execute_result"
    }
   ],
   "source": [
    "200/60"
   ]
  },
  {
   "cell_type": "markdown",
   "id": "e4873146-db81-4d87-b64b-85949c9bee05",
   "metadata": {},
   "source": [
    "**Objectives:**\n",
    "\n",
    "- List popular languages for Data Science\n",
    "- Describe common libraries used in Data Science\n",
    "- Demonstrate basic arithmetic operations in Python\n",
    "- Convert units such as minutes to hours\n",
    "- Illustrate examples of Data Science tools and development environments\n"
   ]
  },
  {
   "cell_type": "markdown",
   "id": "8da80902-fc11-4c00-9156-3989bfa603ee",
   "metadata": {},
   "source": [
    "## Author\n",
    "\n",
    "Aidana\n"
   ]
  },
  {
   "cell_type": "code",
   "execution_count": null,
   "id": "6a1c15d7-e5b6-434c-a43a-2bae4033b7f6",
   "metadata": {},
   "outputs": [],
   "source": []
  },
  {
   "cell_type": "code",
   "execution_count": null,
   "id": "4b8af5cb-8d57-4370-b093-697bdb3ba7f6",
   "metadata": {},
   "outputs": [],
   "source": []
  }
 ],
 "metadata": {
  "kernelspec": {
   "display_name": "Python 3 (ipykernel)",
   "language": "python",
   "name": "python3"
  },
  "language_info": {
   "codemirror_mode": {
    "name": "ipython",
    "version": 3
   },
   "file_extension": ".py",
   "mimetype": "text/x-python",
   "name": "python",
   "nbconvert_exporter": "python",
   "pygments_lexer": "ipython3",
   "version": "3.12.3"
  }
 },
 "nbformat": 4,
 "nbformat_minor": 5
}
