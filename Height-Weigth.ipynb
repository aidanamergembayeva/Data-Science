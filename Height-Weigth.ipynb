{
  "nbformat": 4,
  "nbformat_minor": 0,
  "metadata": {
    "colab": {
      "provenance": [],
      "authorship_tag": "ABX9TyM4XsAzMpO9fjd2JLSYG71D",
      "include_colab_link": true
    },
    "kernelspec": {
      "name": "python3",
      "display_name": "Python 3"
    },
    "language_info": {
      "name": "python"
    }
  },
  "cells": [
    {
      "cell_type": "markdown",
      "metadata": {
        "id": "view-in-github",
        "colab_type": "text"
      },
      "source": [
        "<a href=\"https://colab.research.google.com/github/aidanamergembayeva/Data-Science/blob/main/Height-Weigth.ipynb\" target=\"_parent\"><img src=\"https://colab.research.google.com/assets/colab-badge.svg\" alt=\"Open In Colab\"/></a>"
      ]
    },
    {
      "cell_type": "code",
      "execution_count": null,
      "metadata": {
        "id": "smyDV5dZolQD"
      },
      "outputs": [],
      "source": [
        "import numpy as np\n",
        "import pandas as pd\n",
        "import seaborn\n",
        "import matplotlib.pyplot as plt\n",
        "\n",
        "df_hw_biased = pd.read_csv('Height_Weight.csv')\n",
        "print(df_hw_biased.describe())\n",
        "print('\\n', df_hw_biased.head())\n",
        "\n",
        "\n",
        "hw_plot = seaborn.jointplot(data=df_hw_biased, x='Height', y='Weight', kind='reg', color = 'k')\n",
        "hw_plot.set_axis_labels('Height (Inches)', 'Weight (Pounds)')\n",
        "hw_plot.savefig(\"Fig_height_weight_biased.png\")\n",
        "plt.show()"
      ]
    }
  ]
}